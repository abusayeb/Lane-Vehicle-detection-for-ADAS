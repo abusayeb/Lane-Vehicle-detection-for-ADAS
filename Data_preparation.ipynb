{
 "cells": [
  {
   "cell_type": "code",
   "execution_count": 1,
   "id": "9f2d1416",
   "metadata": {},
   "outputs": [],
   "source": [
    "import cv2\n",
    "import os\n",
    "\n",
    "def extract_frames(input_video, output_folder, target_fps=30):\n",
    "    cap = cv2.VideoCapture(input_video)\n",
    "    fps, skip = cap.get(cv2.CAP_PROP_FPS), int(round(cap.get(cv2.CAP_PROP_FPS) / target_fps))\n",
    "    if not os.path.exists(output_folder): os.makedirs(output_folder)\n",
    "    count = 0\n",
    "    while True:\n",
    "        ret, frame = cap.read()\n",
    "        if not ret: break\n",
    "        if count % skip == 0:\n",
    "            cv2.imwrite(os.path.join(output_folder, f\"{count // skip}.png\"), frame)\n",
    "        count += 1\n",
    "    cap.release()\n",
    "\n",
    "if __name__ == \"__main__\":\n",
    "    input_video, output_folder, target_fps = 'Dataset/yelloleft.mp4', 'Dataset/frames3', 30\n",
    "    extract_frames(input_video, output_folder, target_fps)\n"
   ]
  },
  {
   "cell_type": "code",
   "execution_count": 6,
   "id": "f965a5c8",
   "metadata": {},
   "outputs": [],
   "source": [
    "# import cv2\n",
    "# import os\n",
    "\n",
    "# def extract_frames(input_video, output_folder, target_fps=40):\n",
    "#     cap = cv2.VideoCapture(input_video)\n",
    "#     fps, skip = cap.get(cv2.CAP_PROP_FPS), int(round(cap.get(cv2.CAP_PROP_FPS) / target_fps))\n",
    "#     if not os.path.exists(output_folder): os.makedirs(output_folder)\n",
    "#     count = 0\n",
    "#     while True:\n",
    "#         ret, frame = cap.read()\n",
    "#         if not ret: break\n",
    "#         if count % skip == 0:\n",
    "#             cv2.imwrite(os.path.join(output_folder, f\"{count // skip}.png\"), frame)\n",
    "#         count += 1\n",
    "#     cap.release()\n",
    "\n",
    "# if __name__ == \"__main__\":\n",
    "#     input_video, output_folder, target_fps = 'Dataset/video 2.mp4', 'Dataset/frames2', 30\n",
    "#     extract_frames(input_video, output_folder, target_fps)\n"
   ]
  },
  {
   "cell_type": "code",
   "execution_count": 2,
   "id": "f4360988",
   "metadata": {},
   "outputs": [
    {
     "name": "stdout",
     "output_type": "stream",
     "text": [
      "Original video FPS: 25.0\n"
     ]
    }
   ],
   "source": [
    "# import cv2\n",
    "# import os\n",
    "\n",
    "# def extract_frames(input_video, output_folder):\n",
    "#     cap = cv2.VideoCapture(input_video)\n",
    "#     fps = cap.get(cv2.CAP_PROP_FPS)\n",
    "#     print(f\"Original video FPS: {fps}\")\n",
    "    \n",
    "#     if not os.path.exists(output_folder):\n",
    "#         os.makedirs(output_folder)\n",
    "#     count = 0\n",
    "#     while True:\n",
    "#         ret, frame = cap.read()\n",
    "#         if not ret:\n",
    "#             break\n",
    "#         cv2.imwrite(os.path.join(output_folder, f\"{count}.png\"), frame)\n",
    "#         count += 1\n",
    "#     cap.release()\n",
    "\n",
    "# if __name__ == \"__main__\":\n",
    "#     input_video, output_folder = 'Dataset/yelloleft.mp4', 'Dataset/frames3'\n",
    "#     extract_frames(input_video, output_folder)\n"
   ]
  },
  {
   "cell_type": "code",
   "execution_count": null,
   "id": "4e709099",
   "metadata": {},
   "outputs": [],
   "source": []
  }
 ],
 "metadata": {
  "kernelspec": {
   "display_name": "Python 3 (ipykernel)",
   "language": "python",
   "name": "python3"
  },
  "language_info": {
   "codemirror_mode": {
    "name": "ipython",
    "version": 3
   },
   "file_extension": ".py",
   "mimetype": "text/x-python",
   "name": "python",
   "nbconvert_exporter": "python",
   "pygments_lexer": "ipython3",
   "version": "3.11.5"
  }
 },
 "nbformat": 4,
 "nbformat_minor": 5
}
